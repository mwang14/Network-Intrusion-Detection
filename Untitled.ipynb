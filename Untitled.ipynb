{
 "cells": [
  {
   "cell_type": "markdown",
   "metadata": {},
   "source": [
    "### Notes on CICIDS2017\n",
    "- first using pandas, see what is in the data"
   ]
  },
  {
   "cell_type": "code",
   "execution_count": 46,
   "metadata": {},
   "outputs": [],
   "source": [
    "#!/usr/bin/python\n",
    "import csv\n",
    "import json\n",
    "import pandas as pd\n",
    "import numpy as np\n",
    "import glob\n",
    "\n",
    "csvs = glob.glob('MachineLearningCVE/*')\n",
    "df = pd.read_csv(csvs[0])\n",
    "for csv_file in csvs[1:]:\n",
    "    df.merge(pd.read_csv(csv_file))\n",
    "\n",
    "\n",
    "# TODO - combine all the dataframes into one, write it to a new one"
   ]
  },
  {
   "cell_type": "markdown",
   "metadata": {},
   "source": [
    "### View Columns"
   ]
  },
  {
   "cell_type": "code",
   "execution_count": 48,
   "metadata": {},
   "outputs": [
    {
     "data": {
      "text/plain": [
       " Destination Port                 int64\n",
       " Flow Duration                    int64\n",
       " Total Fwd Packets                int64\n",
       " Total Backward Packets           int64\n",
       "Total Length of Fwd Packets       int64\n",
       " Total Length of Bwd Packets      int64\n",
       " Fwd Packet Length Max            int64\n",
       " Fwd Packet Length Min            int64\n",
       " Fwd Packet Length Mean         float64\n",
       " Fwd Packet Length Std          float64\n",
       "Bwd Packet Length Max             int64\n",
       " Bwd Packet Length Min            int64\n",
       " Bwd Packet Length Mean         float64\n",
       " Bwd Packet Length Std          float64\n",
       "Flow Bytes/s                     object\n",
       " Flow Packets/s                  object\n",
       " Flow IAT Mean                  float64\n",
       " Flow IAT Std                   float64\n",
       " Flow IAT Max                     int64\n",
       " Flow IAT Min                     int64\n",
       "Fwd IAT Total                     int64\n",
       " Fwd IAT Mean                   float64\n",
       " Fwd IAT Std                    float64\n",
       " Fwd IAT Max                      int64\n",
       " Fwd IAT Min                      int64\n",
       "Bwd IAT Total                     int64\n",
       " Bwd IAT Mean                   float64\n",
       " Bwd IAT Std                    float64\n",
       " Bwd IAT Max                      int64\n",
       " Bwd IAT Min                      int64\n",
       "                                 ...   \n",
       " CWE Flag Count                   int64\n",
       " ECE Flag Count                   int64\n",
       " Down/Up Ratio                    int64\n",
       " Average Packet Size            float64\n",
       " Avg Fwd Segment Size           float64\n",
       " Avg Bwd Segment Size           float64\n",
       " Fwd Header Length.1              int64\n",
       "Fwd Avg Bytes/Bulk                int64\n",
       " Fwd Avg Packets/Bulk             int64\n",
       " Fwd Avg Bulk Rate                int64\n",
       " Bwd Avg Bytes/Bulk               int64\n",
       " Bwd Avg Packets/Bulk             int64\n",
       "Bwd Avg Bulk Rate                 int64\n",
       "Subflow Fwd Packets               int64\n",
       " Subflow Fwd Bytes                int64\n",
       " Subflow Bwd Packets              int64\n",
       " Subflow Bwd Bytes                int64\n",
       "Init_Win_bytes_forward            int64\n",
       " Init_Win_bytes_backward          int64\n",
       " act_data_pkt_fwd                 int64\n",
       " min_seg_size_forward             int64\n",
       "Active Mean                     float64\n",
       " Active Std                     float64\n",
       " Active Max                       int64\n",
       " Active Min                       int64\n",
       "Idle Mean                       float64\n",
       " Idle Std                       float64\n",
       " Idle Max                         int64\n",
       " Idle Min                         int64\n",
       " Label                           object\n",
       "Length: 79, dtype: object"
      ]
     },
     "execution_count": 48,
     "metadata": {},
     "output_type": "execute_result"
    }
   ],
   "source": [
    "pd.set_option('display.max_columns', 500)\n",
    "df.dtypes\n"
   ]
  },
  {
   "cell_type": "markdown",
   "metadata": {},
   "source": [
    "### categorical data to numbers"
   ]
  },
  {
   "cell_type": "code",
   "execution_count": 28,
   "metadata": {},
   "outputs": [
    {
     "name": "stdout",
     "output_type": "stream",
     "text": [
      "hi\n"
     ]
    }
   ],
   "source": []
  },
  {
   "cell_type": "markdown",
   "metadata": {},
   "source": [
    "### Convert continuous data to categorical "
   ]
  },
  {
   "cell_type": "code",
   "execution_count": 9,
   "metadata": {},
   "outputs": [],
   "source": [
    "# TODO"
   ]
  },
  {
   "cell_type": "markdown",
   "metadata": {},
   "source": [
    "### View Correlation Matrix"
   ]
  },
  {
   "cell_type": "code",
   "execution_count": 10,
   "metadata": {},
   "outputs": [],
   "source": [
    "# TODO"
   ]
  },
  {
   "cell_type": "markdown",
   "metadata": {},
   "source": [
    "### Feature Selection"
   ]
  },
  {
   "cell_type": "code",
   "execution_count": 11,
   "metadata": {},
   "outputs": [],
   "source": [
    "# TODO"
   ]
  },
  {
   "cell_type": "markdown",
   "metadata": {},
   "source": [
    "### Dimensionality Reduction, PCA/LDA(where do these fit in?)"
   ]
  },
  {
   "cell_type": "code",
   "execution_count": 32,
   "metadata": {},
   "outputs": [
    {
     "name": "stdout",
     "output_type": "stream",
     "text": [
      "hi\n"
     ]
    }
   ],
   "source": [
    "# TODO\n",
    "print \"hi\""
   ]
  },
  {
   "cell_type": "markdown",
   "metadata": {},
   "source": [
    "### Talk about features that make sense or don't make sense"
   ]
  },
  {
   "cell_type": "markdown",
   "metadata": {},
   "source": [
    "### Run Classifiers"
   ]
  },
  {
   "cell_type": "code",
   "execution_count": 31,
   "metadata": {},
   "outputs": [
    {
     "name": "stdout",
     "output_type": "stream",
     "text": [
      "hi\n"
     ]
    }
   ],
   "source": [
    "print \"hi\""
   ]
  },
  {
   "cell_type": "markdown",
   "metadata": {},
   "source": [
    "#### Discuss results"
   ]
  },
  {
   "cell_type": "markdown",
   "metadata": {},
   "source": [
    "# IDEA: Use host packets in sequence as data for RNN?"
   ]
  },
  {
   "cell_type": "code",
   "execution_count": 30,
   "metadata": {},
   "outputs": [
    {
     "name": "stdout",
     "output_type": "stream",
     "text": [
      "hi\n"
     ]
    }
   ],
   "source": [
    "print \"hi\""
   ]
  }
 ],
 "metadata": {
  "kernelspec": {
   "display_name": "Python 2",
   "language": "python",
   "name": "python2"
  },
  "language_info": {
   "codemirror_mode": {
    "name": "ipython",
    "version": 2
   },
   "file_extension": ".py",
   "mimetype": "text/x-python",
   "name": "python",
   "nbconvert_exporter": "python",
   "pygments_lexer": "ipython2",
   "version": "2.7.15"
  }
 },
 "nbformat": 4,
 "nbformat_minor": 2
}
